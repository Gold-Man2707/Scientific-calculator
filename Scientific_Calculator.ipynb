{
  "nbformat": 4,
  "nbformat_minor": 0,
  "metadata": {
    "colab": {
      "provenance": [],
      "authorship_tag": "ABX9TyM59GZDN5vuDb8vAi6yqGYS",
      "include_colab_link": true
    },
    "kernelspec": {
      "name": "python3",
      "display_name": "Python 3"
    },
    "language_info": {
      "name": "python"
    }
  },
  "cells": [
    {
      "cell_type": "markdown",
      "metadata": {
        "id": "view-in-github",
        "colab_type": "text"
      },
      "source": [
        "<a href=\"https://colab.research.google.com/github/Gold-Man2707/Scientific-calculator/blob/main/Scientific_Calculator.ipynb\" target=\"_parent\"><img src=\"https://colab.research.google.com/assets/colab-badge.svg\" alt=\"Open In Colab\"/></a>"
      ]
    },
    {
      "cell_type": "code",
      "execution_count": 3,
      "metadata": {
        "colab": {
          "base_uri": "https://localhost:8080/"
        },
        "id": "N--TFHijN5PX",
        "outputId": "b83543d4-2c74-4976-b38d-fb1523e64ef5"
      },
      "outputs": [
        {
          "output_type": "stream",
          "name": "stdout",
          "text": [
            "===== Scientific Calculator =====\n",
            "1. Addition (+)\n",
            "2. Subtraction (-)\n",
            "3. Multiplication (*)\n",
            "4. Division (/)\n",
            "5. Power (x^y)\n",
            "6. Square Root (√x)\n",
            "7. Sine (sin)\n",
            "8. Cosine (cos)\n",
            "9. Tangent (tan)\n",
            "10. Logarithm (log base e)\n",
            "11. Exit\n",
            "\n",
            "Enter operation number (1-11): 11\n",
            "Exiting calculator. Goodbye!\n"
          ]
        }
      ],
      "source": [
        "import math\n",
        "\n",
        "def scientific_calculator():\n",
        "    print(\"===== Scientific Calculator =====\")\n",
        "    print(\"1. Addition (+)\")\n",
        "    print(\"2. Subtraction (-)\")\n",
        "    print(\"3. Multiplication (*)\")\n",
        "    print(\"4. Division (/)\")\n",
        "    print(\"5. Power (x^y)\")\n",
        "    print(\"6. Square Root (√x)\")\n",
        "    print(\"7. Sine (sin)\")\n",
        "    print(\"8. Cosine (cos)\")\n",
        "    print(\"9. Tangent (tan)\")\n",
        "    print(\"10. Logarithm (log base e)\")\n",
        "    print(\"11. Exit\")\n",
        "\n",
        "    while True:\n",
        "        choice = input(\"\\nEnter operation number (1-11): \")\n",
        "\n",
        "        if choice == \"1\":\n",
        "            a = float(input(\"Enter first number: \"))\n",
        "            b = float(input(\"Enter second number: \"))\n",
        "            print(\"Result =\", a + b)\n",
        "\n",
        "        elif choice == \"2\":\n",
        "            a = float(input(\"Enter first number: \"))\n",
        "            b = float(input(\"Enter second number: \"))\n",
        "            print(\"Result =\", a - b)\n",
        "\n",
        "        elif choice == \"3\":\n",
        "            a = float(input(\"Enter first number: \"))\n",
        "            b = float(input(\"Enter second number: \"))\n",
        "            print(\"Result =\", a * b)\n",
        "\n",
        "        elif choice == \"4\":\n",
        "            a = float(input(\"Enter numerator: \"))\n",
        "            b = float(input(\"Enter denominator: \"))\n",
        "            if b != 0:\n",
        "                print(\"Result =\", a / b)\n",
        "            else:\n",
        "                print(\"Error: Division by zero!\")\n",
        "\n",
        "        elif choice == \"5\":\n",
        "            a = float(input(\"Enter base: \"))\n",
        "            b = float(input(\"Enter exponent: \"))\n",
        "            print(\"Result =\", math.pow(a, b))\n",
        "\n",
        "        elif choice == \"6\":\n",
        "            a = float(input(\"Enter number: \"))\n",
        "            if a >= 0:\n",
        "                print(\"Result =\", math.sqrt(a))\n",
        "            else:\n",
        "                print(\"Error: Negative number!\")\n",
        "\n",
        "        elif choice == \"7\":\n",
        "            angle = float(input(\"Enter angle in degrees: \"))\n",
        "            print(\"Result =\", math.sin(math.radians(angle)))\n",
        "\n",
        "        elif choice == \"8\":\n",
        "            angle = float(input(\"Enter angle in degrees: \"))\n",
        "            print(\"Result =\", math.cos(math.radians(angle)))\n",
        "\n",
        "        elif choice == \"9\":\n",
        "            angle = float(input(\"Enter angle in degrees: \"))\n",
        "            print(\"Result =\", math.tan(math.radians(angle)))\n",
        "\n",
        "        elif choice == \"10\":\n",
        "            a = float(input(\"Enter number: \"))\n",
        "            if a > 0:\n",
        "                print(\"Result =\", math.log(a))\n",
        "            else:\n",
        "                print(\"Error: Log undefined for non-positive numbers!\")\n",
        "\n",
        "        elif choice == \"11\":\n",
        "            print(\"Exiting calculator. Goodbye!\")\n",
        "            break\n",
        "\n",
        "        else:\n",
        "            print(\"Invalid choice, try again.\")\n",
        "\n",
        "# Run calculator\n",
        "scientific_calculator()\n"
      ]
    }
  ]
}